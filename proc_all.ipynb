{
 "cells": [
  {
   "cell_type": "code",
   "execution_count": 1,
   "id": "d1d12ea2-32e9-4628-885f-f39ddd3bc88d",
   "metadata": {},
   "outputs": [],
   "source": [
    "import datetime\n",
    "import pandas as pd\n",
    "import numpy as np\n",
    "import matplotlib.pyplot as plt"
   ]
  },
  {
   "cell_type": "code",
   "execution_count": 2,
   "id": "1a327345-2e8b-4542-b4d6-a265375f8b71",
   "metadata": {},
   "outputs": [],
   "source": [
    "def roundTime(dt=None):    \n",
    "    dt = dt.to_pydatetime()\n",
    "    roundTo = 15*60    \n",
    "    if dt == None : dt = datetime.datetime.now()\n",
    "    seconds = (dt.replace(tzinfo=None) - dt.min).seconds\n",
    "    rounding = (seconds+roundTo/2) // roundTo * roundTo\n",
    "    return dt + datetime.timedelta(0,rounding-seconds,-dt.microsecond)\n",
    "\n",
    "\n",
    "def conv_entries(arr):  \n",
    "    int_arr = [int(x) for x in arr]\n",
    "    if int_arr[2] > 29:\n",
    "        int_arr[1] += 1        \n",
    "    int_arr[2] = 0\n",
    "    mins = int_arr[0]*60 + int_arr[1]\n",
    "    rem = mins % 15\n",
    "    if rem > 7:\n",
    "        mins += (15-rem)\n",
    "    else:\n",
    "        mins -= rem        \n",
    "    return mins\n",
    "\n",
    "def get_day_index(ts):\n",
    "    idx = ts.weekday()\n",
    "    if idx == 6:\n",
    "        return 0\n",
    "    return idx+1\n",
    "\n",
    "def conv_timestamp(ts):\n",
    "    time_arr = str(ts)[-8:].split(':')\n",
    "    hours = int(time_arr[0])\n",
    "    mins = int(time_arr[1])\n",
    "    return (hours*60+mins)//15\n",
    "\n",
    "def get_weekend(ts):\n",
    "    if ts.weekday() > 4:\n",
    "        return 1\n",
    "    return 0\n",
    "\n",
    "# def get_weekday(ts):\n",
    "#     return ts.weekday()\n",
    "    \n",
    "\n",
    "def calc_quarter_load(row):\n",
    "    dur = row['Charging_Time__hh_mm_ss_']\n",
    "    total = row['Energy__kWh_']\n",
    "    return (total/dur)*15.0\n",
    "\n",
    "\n",
    "def add_to_backbones(row, stat_name):\n",
    "    delta = row['End_Date___Time'] - row['Start_Date___Time']\n",
    "    iters = int(round(delta.total_seconds()/60.0)/15.0)\n",
    "\n",
    "\n",
    "    backbone_load = stat_backbones[stat_name][0]\n",
    "    for i in range(iters):\n",
    "        backbone_load.loc[backbone_load['date_time'] == row['Start_Date___Time'] + datetime.timedelta(minutes=15*i), 'value'] += row['Load_per_quarter']     \n",
    "    \n",
    "    backbone_occup = stat_backbones[stat_name][1]\n",
    "    for i in range(iters):\n",
    "        backbone_occup.loc[backbone_occup['date_time'] == row['Start_Date___Time'] + datetime.timedelta(minutes=15*i), 'value'] = 1.0   \n",
    "          "
   ]
  },
  {
   "cell_type": "code",
   "execution_count": null,
   "id": "22954fa3-1235-4c59-a9b5-e7d4532d5a7c",
   "metadata": {},
   "outputs": [],
   "source": [
    "locations = ['boulder', 'palo_alto', 'acn', 'perth_kinross']"
   ]
  }
 ],
 "metadata": {
  "kernelspec": {
   "display_name": "Python 3 (ipykernel)",
   "language": "python",
   "name": "python3"
  },
  "language_info": {
   "codemirror_mode": {
    "name": "ipython",
    "version": 3
   },
   "file_extension": ".py",
   "mimetype": "text/x-python",
   "name": "python",
   "nbconvert_exporter": "python",
   "pygments_lexer": "ipython3",
   "version": "3.9.12"
  }
 },
 "nbformat": 4,
 "nbformat_minor": 5
}
