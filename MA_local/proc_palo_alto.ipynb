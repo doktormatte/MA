{
 "cells": [
  {
   "cell_type": "code",
   "execution_count": 9,
   "id": "650c5211-e0b5-45cd-a04f-053b426ee637",
   "metadata": {},
   "outputs": [],
   "source": [
    "import datetime\n",
    "import pandas as pd\n",
    "import numpy as np\n",
    "import matplotlib.pyplot as plt"
   ]
  },
  {
   "cell_type": "code",
   "execution_count": 10,
   "id": "e3740509-c673-44f6-b408-3087720cde11",
   "metadata": {},
   "outputs": [],
   "source": [
    "def roundTime(dt=None):    \n",
    "    dt = dt.to_pydatetime()\n",
    "    roundTo = 15*60    \n",
    "    if dt == None : dt = datetime.datetime.now()\n",
    "    seconds = (dt.replace(tzinfo=None) - dt.min).seconds\n",
    "    rounding = (seconds+roundTo/2) // roundTo * roundTo\n",
    "    return dt + datetime.timedelta(0,rounding-seconds,-dt.microsecond)"
   ]
  },
  {
   "cell_type": "code",
   "execution_count": 11,
   "id": "78577bc9-6783-4ae0-8e48-269c070f4856",
   "metadata": {},
   "outputs": [],
   "source": [
    "def conv_entries(arr):  \n",
    "    int_arr = [int(x) for x in arr]\n",
    "    if int_arr[2] > 29:\n",
    "        int_arr[1] += 1        \n",
    "    int_arr[2] = 0\n",
    "    mins = int_arr[0]*60 + int_arr[1]\n",
    "    rem = mins % 15\n",
    "    if rem > 7:\n",
    "        mins += (15-rem)\n",
    "    else:\n",
    "        mins -= rem        \n",
    "    return mins"
   ]
  },
  {
   "cell_type": "code",
   "execution_count": 12,
   "id": "0c252d92-5592-4b25-82fe-da2da0aa0bec",
   "metadata": {},
   "outputs": [],
   "source": [
    "def calc_quarter_load(row):\n",
    "    dur = row['Charging Time (hh:mm:ss)']\n",
    "    total = row['Energy (kWh)']\n",
    "    return (total/dur)*15.0"
   ]
  },
  {
   "cell_type": "code",
   "execution_count": 13,
   "id": "ca926d3b-7864-44fb-a766-0a804227c201",
   "metadata": {},
   "outputs": [],
   "source": [
    "def add_to_backbone(row):\n",
    "    iters = row['Charging Time (hh:mm:ss)']//15\n",
    "    for i in range(iters):\n",
    "        backbone.loc[backbone['date_time'] == row['Start Date'] + datetime.timedelta(minutes=15*i), 'value'] += row['Load_per_quarter']  \n",
    "        backbone.loc[backbone['date_time'] == row['Start Date'] + datetime.timedelta(minutes=15*i), 'sessions'] += 1    "
   ]
  },
  {
   "cell_type": "code",
   "execution_count": 14,
   "id": "e467ce4c-c3d6-4706-91a6-294f6eb96cb0",
   "metadata": {},
   "outputs": [
    {
     "name": "stderr",
     "output_type": "stream",
     "text": [
      "/tmp/ipykernel_41825/3061355055.py:5: DtypeWarning: Columns (29,30,32) have mixed types. Specify dtype option on import or set low_memory=False.\n",
      "  df_palo_alto = pd.read_csv (r'/home/doktormatte/Dropbox/Dokumente/Studium/MA_SciComp/Data/ElectricVehicleChargingStationUsageJuly2011Dec2020_PaloAlto.csv')\n"
     ]
    }
   ],
   "source": [
    "mode = \"rapid\"\n",
    "#mode = \"fast\"\n",
    "\n",
    "\n",
    "df_palo_alto = pd.read_csv (r'/home/doktormatte/Dropbox/Dokumente/Studium/MA_SciComp/Data/ElectricVehicleChargingStationUsageJuly2011Dec2020_PaloAlto.csv')\n",
    "exclude_stations = [\"PALO ALTO CA / TED THOMPSON #4\",\"PALO ALTO CA / TED THOMPSON #3\",\"PALO ALTO CA / CAMBRIDGE #5\",\"PALO ALTO CA / TED THOMPSON #2\",\"PALO ALTO CA / CAMBRIDGE #3\",\"PALO ALTO CA / CAMBRIDGE #4\",\"PALO ALTO CA / BRYANT # 1\",\"PALO ALTO CA / SHERMAN 6\",\"PALO ALTO CA / SHERMAN 7\",\"PALO ALTO CA / SHERMAN 9\",\"PALO ALTO CA / SHERMAN 8\",\"PALO ALTO CA / SHERMAN 4\",\"PALO ALTO CA / SHERMAN 1\",\"PALO ALTO CA / SHERMAN 3\",\"PALO ALTO CA / SHERMAN 14\",\"PALO ALTO CA / SHERMAN 2\",\"PALO ALTO CA / SHERMAN 5\",\"PALO ALTO CA / SHERMAN 15\",\"PALO ALTO CA / SHERMAN 11\",\"PALO ALTO CA / SHERMAN 17\"]\n",
    "\n",
    "df_palo_alto = df_palo_alto[df_palo_alto['Station Name'].isin(exclude_stations) == False]\n",
    "\n",
    "if mode == \"rapid\":\n",
    "    df_palo_alto = df_palo_alto[df_palo_alto['Plug Type'] == 'J1772']\n",
    "else: \n",
    "    df_palo_alto = df_palo_alto[df_palo_alto['Plug Type'] == 'NEMA 5-20R']\n",
    "\n",
    "df_palo_alto = df_palo_alto[df_palo_alto['Start Date'].notna()]\n",
    "df_palo_alto = df_palo_alto[df_palo_alto['Charging Time (hh:mm:ss)'].notna()]"
   ]
  },
  {
   "cell_type": "code",
   "execution_count": 15,
   "id": "20d1539d-5813-4a69-964d-55142c3b3045",
   "metadata": {},
   "outputs": [
    {
     "data": {
      "text/plain": [
       "'1/1/2012 13:24'"
      ]
     },
     "execution_count": 15,
     "metadata": {},
     "output_type": "execute_result"
    }
   ],
   "source": [
    "min(df_palo_alto['Start Date'])"
   ]
  },
  {
   "cell_type": "code",
   "execution_count": 7,
   "id": "47eb5d30-0be3-471d-b574-26012428dd2b",
   "metadata": {},
   "outputs": [],
   "source": [
    "cutoff = datetime.datetime.strptime(\"8/1/2017 00:00\", '%m/%d/%Y %H:%M')\n",
    "df_palo_alto['Start Date'] = df_palo_alto['Start Date'].map(lambda x: datetime.datetime.strptime(x, '%m/%d/%Y %H:%M'))\n",
    "df_palo_alto = df_palo_alto[df_palo_alto['Start Date'] >= cutoff]\n",
    "df_palo_alto = df_palo_alto[df_palo_alto['Energy (kWh)'] > 0.0]"
   ]
  },
  {
   "cell_type": "code",
   "execution_count": 8,
   "id": "90ce1442-3d27-4a45-ad10-cbb8d782b631",
   "metadata": {},
   "outputs": [
    {
     "data": {
      "text/plain": [
       "Timestamp('2017-08-01 05:16:00')"
      ]
     },
     "execution_count": 8,
     "metadata": {},
     "output_type": "execute_result"
    }
   ],
   "source": []
  },
  {
   "cell_type": "code",
   "execution_count": 24,
   "id": "117f182f-b07d-4b22-9d40-723628fc7dc1",
   "metadata": {},
   "outputs": [],
   "source": [
    "df_palo_alto['Charging Time (hh:mm:ss)'] = df_palo_alto['Charging Time (hh:mm:ss)'].map(lambda x: x.split(':'))\n",
    "df_palo_alto['Charging Time (hh:mm:ss)'] = df_palo_alto['Charging Time (hh:mm:ss)'].map(conv_entries)\n",
    "df_palo_alto = df_palo_alto[df_palo_alto['Charging Time (hh:mm:ss)'] > 0]\n",
    "df_palo_alto['Load_per_quarter'] = df_palo_alto.apply(lambda row: calc_quarter_load(row), axis=1)"
   ]
  },
  {
   "cell_type": "code",
   "execution_count": 25,
   "id": "85ffc342-d2a7-444d-bb79-4a496aa2d9d7",
   "metadata": {},
   "outputs": [],
   "source": [
    "df_palo_alto['Start Date'] = df_palo_alto['Start Date'].dt.to_pydatetime()\n",
    "df_palo_alto['Start Date'] = df_palo_alto['Start Date'].map(roundTime)\n",
    "start = df_palo_alto['Start Date'].min()\n",
    "start = cutoff\n",
    "# start = datetime.datetime.strptime(\"2020/03/15 00:00:00+00\", '%Y/%m/%d %H:%M:%S+%f') \n",
    "end = datetime.datetime.strptime(\"2020/03/15 00:00:00+00\", '%Y/%m/%d %H:%M:%S+%f')\n",
    "# end = df_palo_alto['Start Date'].max()"
   ]
  },
  {
   "cell_type": "code",
   "execution_count": 26,
   "id": "2d17337e-e1b7-419a-be62-bb5eaff05222",
   "metadata": {},
   "outputs": [],
   "source": [
    "backbone = pd.DataFrame({'date_time': pd.date_range(start, end, freq=\"15min\")})\n",
    "backbone.set_index('date_time')\n",
    "backbone['value'] = 0.0\n",
    "backbone['sessions'] = 0"
   ]
  },
  {
   "cell_type": "code",
   "execution_count": 27,
   "id": "722a7ac0-09c8-4dbf-876b-db41c5369d11",
   "metadata": {},
   "outputs": [
    {
     "data": {
      "text/plain": [
       "['Station Name',\n",
       " 'MAC Address',\n",
       " 'Org Name',\n",
       " 'Start Date',\n",
       " 'Start Time Zone',\n",
       " 'End Date',\n",
       " 'End Time Zone',\n",
       " 'Transaction Date (Pacific Time)',\n",
       " 'Total Duration (hh:mm:ss)',\n",
       " 'Charging Time (hh:mm:ss)',\n",
       " 'Energy (kWh)',\n",
       " 'GHG Savings (kg)',\n",
       " 'Gasoline Savings (gallons)',\n",
       " 'Port Type',\n",
       " 'Port Number',\n",
       " 'Plug Type',\n",
       " 'EVSE ID',\n",
       " 'Address 1',\n",
       " 'City',\n",
       " 'State/Province',\n",
       " 'Postal Code',\n",
       " 'Country',\n",
       " 'Latitude',\n",
       " 'Longitude',\n",
       " 'Currency',\n",
       " 'Fee',\n",
       " 'Ended By',\n",
       " 'Plug In Event Id',\n",
       " 'Driver Postal Code',\n",
       " 'User ID',\n",
       " 'County',\n",
       " 'System S/N',\n",
       " 'Model Number',\n",
       " 'Load_per_quarter']"
      ]
     },
     "execution_count": 27,
     "metadata": {},
     "output_type": "execute_result"
    }
   ],
   "source": [
    "list(df_palo_alto)\n"
   ]
  },
  {
   "cell_type": "code",
   "execution_count": 28,
   "id": "30256895-99b8-4ba7-a9d6-3e0144ea1f64",
   "metadata": {},
   "outputs": [
    {
     "data": {
      "image/png": "[encoded data removed]",
      "text/plain": [
       "<Figure size 1440x720 with 1 Axes>"
      ]
     },
     "metadata": {
      "needs_background": "light"
     },
     "output_type": "display_data"
    }
   ],
   "source": [
    "def calc_power(row):\n",
    "    dur = row['Charging Time (hh:mm:ss)']\n",
    "    energy = row['Energy (kWh)']\n",
    "    return round((energy/dur)*60)\n",
    "    \n",
    "df_palo_alto['power'] = df_palo_alto.apply(lambda row: calc_power(row), axis=1)\n",
    "\n",
    "\n",
    "list(df_palo_alto)\n",
    "np.mean(df_palo_alto.power)\n",
    "\n",
    "vc_power = df_palo_alto.power.value_counts()\n",
    "vc_power = vc_power.sort_index()\n",
    "vc_power = vc_power[:11]\n",
    "x_power = vc_power.index\n",
    "y_power = vc_power.values\n",
    "plt.rcParams[\"figure.figsize\"] = (20,10)\n",
    "plt.bar(x_power, y_power, width=0.9)\n",
    "plt.show()"
   ]
  },
  {
   "cell_type": "code",
   "execution_count": 29,
   "id": "d34a798e-ff9f-4e49-8a4d-2429507dae91",
   "metadata": {},
   "outputs": [
    {
     "data": {
      "text/plain": [
       "0        28\n",
       "1       460\n",
       "2      4734\n",
       "3     37158\n",
       "4      8632\n",
       "5     12360\n",
       "6     37898\n",
       "7      3333\n",
       "8       548\n",
       "9       170\n",
       "10        2\n",
       "Name: power, dtype: int64"
      ]
     },
     "execution_count": 29,
     "metadata": {},
     "output_type": "execute_result"
    }
   ],
   "source": [
    "vc_power[:11]\n"
   ]
  },
  {
   "cell_type": "code",
   "execution_count": 30,
   "id": "01bf7311-46b3-447f-8fb9-59d139768604",
   "metadata": {},
   "outputs": [
    {
     "ename": "KeyboardInterrupt",
     "evalue": "",
     "output_type": "error",
     "traceback": [
      "\u001b[0;31m---------------------------------------------------------------------------\u001b[0m",
      "\u001b[0;31mKeyboardInterrupt\u001b[0m                         Traceback (most recent call last)",
      "\u001b[0;32m/tmp/ipykernel_24432/186695188.py\u001b[0m in \u001b[0;36m<module>\u001b[0;34m\u001b[0m\n\u001b[0;32m----> 1\u001b[0;31m \u001b[0mdf_palo_alto\u001b[0m\u001b[0;34m.\u001b[0m\u001b[0mapply\u001b[0m\u001b[0;34m(\u001b[0m\u001b[0;32mlambda\u001b[0m \u001b[0mrow\u001b[0m\u001b[0;34m:\u001b[0m \u001b[0madd_to_backbone\u001b[0m\u001b[0;34m(\u001b[0m\u001b[0mrow\u001b[0m\u001b[0;34m)\u001b[0m\u001b[0;34m,\u001b[0m \u001b[0maxis\u001b[0m\u001b[0;34m=\u001b[0m\u001b[0;36m1\u001b[0m\u001b[0;34m)\u001b[0m\u001b[0;34m\u001b[0m\u001b[0;34m\u001b[0m\u001b[0m\n\u001b[0m",
      "\u001b[0;32m~/anaconda3/envs/spyder-env/lib/python3.9/site-packages/pandas/core/frame.py\u001b[0m in \u001b[0;36mapply\u001b[0;34m(self, func, axis, raw, result_type, args, **kwargs)\u001b[0m\n\u001b[1;32m   8837\u001b[0m             \u001b[0mkwargs\u001b[0m\u001b[0;34m=\u001b[0m\u001b[0mkwargs\u001b[0m\u001b[0;34m,\u001b[0m\u001b[0;34m\u001b[0m\u001b[0;34m\u001b[0m\u001b[0m\n\u001b[1;32m   8838\u001b[0m         )\n\u001b[0;32m-> 8839\u001b[0;31m         \u001b[0;32mreturn\u001b[0m \u001b[0mop\u001b[0m\u001b[0;34m.\u001b[0m\u001b[0mapply\u001b[0m\u001b[0;34m(\u001b[0m\u001b[0;34m)\u001b[0m\u001b[0;34m.\u001b[0m\u001b[0m__finalize__\u001b[0m\u001b[0;34m(\u001b[0m\u001b[0mself\u001b[0m\u001b[0;34m,\u001b[0m \u001b[0mmethod\u001b[0m\u001b[0;34m=\u001b[0m\u001b[0;34m\"apply\"\u001b[0m\u001b[0;34m)\u001b[0m\u001b[0;34m\u001b[0m\u001b[0;34m\u001b[0m\u001b[0m\n\u001b[0m\u001b[1;32m   8840\u001b[0m \u001b[0;34m\u001b[0m\u001b[0m\n\u001b[1;32m   8841\u001b[0m     def applymap(\n",
      "\u001b[0;32m~/anaconda3/envs/spyder-env/lib/python3.9/site-packages/pandas/core/apply.py\u001b[0m in \u001b[0;36mapply\u001b[0;34m(self)\u001b[0m\n\u001b[1;32m    725\u001b[0m             \u001b[0;32mreturn\u001b[0m \u001b[0mself\u001b[0m\u001b[0;34m.\u001b[0m\u001b[0mapply_raw\u001b[0m\u001b[0;34m(\u001b[0m\u001b[0;34m)\u001b[0m\u001b[0;34m\u001b[0m\u001b[0;34m\u001b[0m\u001b[0m\n\u001b[1;32m    726\u001b[0m \u001b[0;34m\u001b[0m\u001b[0m\n\u001b[0;32m--> 727\u001b[0;31m         \u001b[0;32mreturn\u001b[0m \u001b[0mself\u001b[0m\u001b[0;34m.\u001b[0m\u001b[0mapply_standard\u001b[0m\u001b[0;34m(\u001b[0m\u001b[0;34m)\u001b[0m\u001b[0;34m\u001b[0m\u001b[0;34m\u001b[0m\u001b[0m\n\u001b[0m\u001b[1;32m    728\u001b[0m \u001b[0;34m\u001b[0m\u001b[0m\n\u001b[1;32m    729\u001b[0m     \u001b[0;32mdef\u001b[0m \u001b[0magg\u001b[0m\u001b[0;34m(\u001b[0m\u001b[0mself\u001b[0m\u001b[0;34m)\u001b[0m\u001b[0;34m:\u001b[0m\u001b[0;34m\u001b[0m\u001b[0;34m\u001b[0m\u001b[0m\n",
      "\u001b[0;32m~/anaconda3/envs/spyder-env/lib/python3.9/site-packages/pandas/core/apply.py\u001b[0m in \u001b[0;36mapply_standard\u001b[0;34m(self)\u001b[0m\n\u001b[1;32m    849\u001b[0m \u001b[0;34m\u001b[0m\u001b[0m\n\u001b[1;32m    850\u001b[0m     \u001b[0;32mdef\u001b[0m \u001b[0mapply_standard\u001b[0m\u001b[0;34m(\u001b[0m\u001b[0mself\u001b[0m\u001b[0;34m)\u001b[0m\u001b[0;34m:\u001b[0m\u001b[0;34m\u001b[0m\u001b[0;34m\u001b[0m\u001b[0m\n\u001b[0;32m--> 851\u001b[0;31m         \u001b[0mresults\u001b[0m\u001b[0;34m,\u001b[0m \u001b[0mres_index\u001b[0m \u001b[0;34m=\u001b[0m \u001b[0mself\u001b[0m\u001b[0;34m.\u001b[0m\u001b[0mapply_series_generator\u001b[0m\u001b[0;34m(\u001b[0m\u001b[0;34m)\u001b[0m\u001b[0;34m\u001b[0m\u001b[0;34m\u001b[0m\u001b[0m\n\u001b[0m\u001b[1;32m    852\u001b[0m \u001b[0;34m\u001b[0m\u001b[0m\n\u001b[1;32m    853\u001b[0m         \u001b[0;31m# wrap results\u001b[0m\u001b[0;34m\u001b[0m\u001b[0;34m\u001b[0m\u001b[0m\n",
      "\u001b[0;32m~/anaconda3/envs/spyder-env/lib/python3.9/site-packages/pandas/core/apply.py\u001b[0m in \u001b[0;36mapply_series_generator\u001b[0;34m(self)\u001b[0m\n\u001b[1;32m    865\u001b[0m             \u001b[0;32mfor\u001b[0m \u001b[0mi\u001b[0m\u001b[0;34m,\u001b[0m \u001b[0mv\u001b[0m \u001b[0;32min\u001b[0m \u001b[0menumerate\u001b[0m\u001b[0;34m(\u001b[0m\u001b[0mseries_gen\u001b[0m\u001b[0;34m)\u001b[0m\u001b[0;34m:\u001b[0m\u001b[0;34m\u001b[0m\u001b[0;34m\u001b[0m\u001b[0m\n\u001b[1;32m    866\u001b[0m                 \u001b[0;31m# ignore SettingWithCopy here in case the user mutates\u001b[0m\u001b[0;34m\u001b[0m\u001b[0;34m\u001b[0m\u001b[0m\n\u001b[0;32m--> 867\u001b[0;31m                 \u001b[0mresults\u001b[0m\u001b[0;34m[\u001b[0m\u001b[0mi\u001b[0m\u001b[0;34m]\u001b[0m \u001b[0;34m=\u001b[0m \u001b[0mself\u001b[0m\u001b[0;34m.\u001b[0m\u001b[0mf\u001b[0m\u001b[0;34m(\u001b[0m\u001b[0mv\u001b[0m\u001b[0;34m)\u001b[0m\u001b[0;34m\u001b[0m\u001b[0;34m\u001b[0m\u001b[0m\n\u001b[0m\u001b[1;32m    868\u001b[0m                 \u001b[0;32mif\u001b[0m \u001b[0misinstance\u001b[0m\u001b[0;34m(\u001b[0m\u001b[0mresults\u001b[0m\u001b[0;34m[\u001b[0m\u001b[0mi\u001b[0m\u001b[0;34m]\u001b[0m\u001b[0;34m,\u001b[0m \u001b[0mABCSeries\u001b[0m\u001b[0;34m)\u001b[0m\u001b[0;34m:\u001b[0m\u001b[0;34m\u001b[0m\u001b[0;34m\u001b[0m\u001b[0m\n\u001b[1;32m    869\u001b[0m                     \u001b[0;31m# If we have a view on v, we need to make a copy because\u001b[0m\u001b[0;34m\u001b[0m\u001b[0;34m\u001b[0m\u001b[0m\n",
      "\u001b[0;32m/tmp/ipykernel_24432/186695188.py\u001b[0m in \u001b[0;36m<lambda>\u001b[0;34m(row)\u001b[0m\n\u001b[0;32m----> 1\u001b[0;31m \u001b[0mdf_palo_alto\u001b[0m\u001b[0;34m.\u001b[0m\u001b[0mapply\u001b[0m\u001b[0;34m(\u001b[0m\u001b[0;32mlambda\u001b[0m \u001b[0mrow\u001b[0m\u001b[0;34m:\u001b[0m \u001b[0madd_to_backbone\u001b[0m\u001b[0;34m(\u001b[0m\u001b[0mrow\u001b[0m\u001b[0;34m)\u001b[0m\u001b[0;34m,\u001b[0m \u001b[0maxis\u001b[0m\u001b[0;34m=\u001b[0m\u001b[0;36m1\u001b[0m\u001b[0;34m)\u001b[0m\u001b[0;34m\u001b[0m\u001b[0;34m\u001b[0m\u001b[0m\n\u001b[0m",
      "\u001b[0;32m/tmp/ipykernel_24432/969285026.py\u001b[0m in \u001b[0;36madd_to_backbone\u001b[0;34m(row)\u001b[0m\n\u001b[1;32m      3\u001b[0m     \u001b[0;32mfor\u001b[0m \u001b[0mi\u001b[0m \u001b[0;32min\u001b[0m \u001b[0mrange\u001b[0m\u001b[0;34m(\u001b[0m\u001b[0miters\u001b[0m\u001b[0;34m)\u001b[0m\u001b[0;34m:\u001b[0m\u001b[0;34m\u001b[0m\u001b[0;34m\u001b[0m\u001b[0m\n\u001b[1;32m      4\u001b[0m         \u001b[0mbackbone\u001b[0m\u001b[0;34m.\u001b[0m\u001b[0mloc\u001b[0m\u001b[0;34m[\u001b[0m\u001b[0mbackbone\u001b[0m\u001b[0;34m[\u001b[0m\u001b[0;34m'date_time'\u001b[0m\u001b[0;34m]\u001b[0m \u001b[0;34m==\u001b[0m \u001b[0mrow\u001b[0m\u001b[0;34m[\u001b[0m\u001b[0;34m'Start Date'\u001b[0m\u001b[0;34m]\u001b[0m \u001b[0;34m+\u001b[0m \u001b[0mdatetime\u001b[0m\u001b[0;34m.\u001b[0m\u001b[0mtimedelta\u001b[0m\u001b[0;34m(\u001b[0m\u001b[0mminutes\u001b[0m\u001b[0;34m=\u001b[0m\u001b[0;36m15\u001b[0m\u001b[0;34m*\u001b[0m\u001b[0mi\u001b[0m\u001b[0;34m)\u001b[0m\u001b[0;34m,\u001b[0m \u001b[0;34m'value'\u001b[0m\u001b[0;34m]\u001b[0m \u001b[0;34m+=\u001b[0m \u001b[0mrow\u001b[0m\u001b[0;34m[\u001b[0m\u001b[0;34m'Load_per_quarter'\u001b[0m\u001b[0;34m]\u001b[0m\u001b[0;34m\u001b[0m\u001b[0;34m\u001b[0m\u001b[0m\n\u001b[0;32m----> 5\u001b[0;31m         \u001b[0mbackbone\u001b[0m\u001b[0;34m.\u001b[0m\u001b[0mloc\u001b[0m\u001b[0;34m[\u001b[0m\u001b[0mbackbone\u001b[0m\u001b[0;34m[\u001b[0m\u001b[0;34m'date_time'\u001b[0m\u001b[0;34m]\u001b[0m \u001b[0;34m==\u001b[0m \u001b[0mrow\u001b[0m\u001b[0;34m[\u001b[0m\u001b[0;34m'Start Date'\u001b[0m\u001b[0;34m]\u001b[0m \u001b[0;34m+\u001b[0m \u001b[0mdatetime\u001b[0m\u001b[0;34m.\u001b[0m\u001b[0mtimedelta\u001b[0m\u001b[0;34m(\u001b[0m\u001b[0mminutes\u001b[0m\u001b[0;34m=\u001b[0m\u001b[0;36m15\u001b[0m\u001b[0;34m*\u001b[0m\u001b[0mi\u001b[0m\u001b[0;34m)\u001b[0m\u001b[0;34m,\u001b[0m \u001b[0;34m'sessions'\u001b[0m\u001b[0;34m]\u001b[0m \u001b[0;34m+=\u001b[0m \u001b[0;36m1\u001b[0m\u001b[0;34m\u001b[0m\u001b[0;34m\u001b[0m\u001b[0m\n\u001b[0m",
      "\u001b[0;32m~/anaconda3/envs/spyder-env/lib/python3.9/site-packages/pandas/core/indexing.py\u001b[0m in \u001b[0;36m__getitem__\u001b[0;34m(self, key)\u001b[0m\n\u001b[1;32m    959\u001b[0m             \u001b[0;32mif\u001b[0m \u001b[0mself\u001b[0m\u001b[0;34m.\u001b[0m\u001b[0m_is_scalar_access\u001b[0m\u001b[0;34m(\u001b[0m\u001b[0mkey\u001b[0m\u001b[0;34m)\u001b[0m\u001b[0;34m:\u001b[0m\u001b[0;34m\u001b[0m\u001b[0;34m\u001b[0m\u001b[0m\n\u001b[1;32m    960\u001b[0m                 \u001b[0;32mreturn\u001b[0m \u001b[0mself\u001b[0m\u001b[0;34m.\u001b[0m\u001b[0mobj\u001b[0m\u001b[0;34m.\u001b[0m\u001b[0m_get_value\u001b[0m\u001b[0;34m(\u001b[0m\u001b[0;34m*\u001b[0m\u001b[0mkey\u001b[0m\u001b[0;34m,\u001b[0m \u001b[0mtakeable\u001b[0m\u001b[0;34m=\u001b[0m\u001b[0mself\u001b[0m\u001b[0;34m.\u001b[0m\u001b[0m_takeable\u001b[0m\u001b[0;34m)\u001b[0m\u001b[0;34m\u001b[0m\u001b[0;34m\u001b[0m\u001b[0m\n\u001b[0;32m--> 961\u001b[0;31m             \u001b[0;32mreturn\u001b[0m \u001b[0mself\u001b[0m\u001b[0;34m.\u001b[0m\u001b[0m_getitem_tuple\u001b[0m\u001b[0;34m(\u001b[0m\u001b[0mkey\u001b[0m\u001b[0;34m)\u001b[0m\u001b[0;34m\u001b[0m\u001b[0;34m\u001b[0m\u001b[0m\n\u001b[0m\u001b[1;32m    962\u001b[0m         \u001b[0;32melse\u001b[0m\u001b[0;34m:\u001b[0m\u001b[0;34m\u001b[0m\u001b[0;34m\u001b[0m\u001b[0m\n\u001b[1;32m    963\u001b[0m             \u001b[0;31m# we by definition only have the 0th axis\u001b[0m\u001b[0;34m\u001b[0m\u001b[0;34m\u001b[0m\u001b[0m\n",
      "\u001b[0;32m~/anaconda3/envs/spyder-env/lib/python3.9/site-packages/pandas/core/indexing.py\u001b[0m in \u001b[0;36m_getitem_tuple\u001b[0;34m(self, tup)\u001b[0m\n\u001b[1;32m   1138\u001b[0m         \u001b[0;32mwith\u001b[0m \u001b[0msuppress\u001b[0m\u001b[0;34m(\u001b[0m\u001b[0mIndexingError\u001b[0m\u001b[0;34m)\u001b[0m\u001b[0;34m:\u001b[0m\u001b[0;34m\u001b[0m\u001b[0;34m\u001b[0m\u001b[0m\n\u001b[1;32m   1139\u001b[0m             \u001b[0mtup\u001b[0m \u001b[0;34m=\u001b[0m \u001b[0mself\u001b[0m\u001b[0;34m.\u001b[0m\u001b[0m_expand_ellipsis\u001b[0m\u001b[0;34m(\u001b[0m\u001b[0mtup\u001b[0m\u001b[0;34m)\u001b[0m\u001b[0;34m\u001b[0m\u001b[0;34m\u001b[0m\u001b[0m\n\u001b[0;32m-> 1140\u001b[0;31m             \u001b[0;32mreturn\u001b[0m \u001b[0mself\u001b[0m\u001b[0;34m.\u001b[0m\u001b[0m_getitem_lowerdim\u001b[0m\u001b[0;34m(\u001b[0m\u001b[0mtup\u001b[0m\u001b[0;34m)\u001b[0m\u001b[0;34m\u001b[0m\u001b[0;34m\u001b[0m\u001b[0m\n\u001b[0m\u001b[1;32m   1141\u001b[0m \u001b[0;34m\u001b[0m\u001b[0m\n\u001b[1;32m   1142\u001b[0m         \u001b[0;31m# no multi-index, so validate all of the indexers\u001b[0m\u001b[0;34m\u001b[0m\u001b[0;34m\u001b[0m\u001b[0m\n",
      "\u001b[0;32m~/anaconda3/envs/spyder-env/lib/python3.9/site-packages/pandas/core/indexing.py\u001b[0m in \u001b[0;36m_getitem_lowerdim\u001b[0;34m(self, tup)\u001b[0m\n\u001b[1;32m    889\u001b[0m                     \u001b[0;32mreturn\u001b[0m \u001b[0msection\u001b[0m\u001b[0;34m\u001b[0m\u001b[0;34m\u001b[0m\u001b[0m\n\u001b[1;32m    890\u001b[0m                 \u001b[0;31m# This is an elided recursive call to iloc/loc\u001b[0m\u001b[0;34m\u001b[0m\u001b[0;34m\u001b[0m\u001b[0m\n\u001b[0;32m--> 891\u001b[0;31m                 \u001b[0;32mreturn\u001b[0m \u001b[0mgetattr\u001b[0m\u001b[0;34m(\u001b[0m\u001b[0msection\u001b[0m\u001b[0;34m,\u001b[0m \u001b[0mself\u001b[0m\u001b[0;34m.\u001b[0m\u001b[0mname\u001b[0m\u001b[0;34m)\u001b[0m\u001b[0;34m[\u001b[0m\u001b[0mnew_key\u001b[0m\u001b[0;34m]\u001b[0m\u001b[0;34m\u001b[0m\u001b[0;34m\u001b[0m\u001b[0m\n\u001b[0m\u001b[1;32m    892\u001b[0m \u001b[0;34m\u001b[0m\u001b[0m\n\u001b[1;32m    893\u001b[0m         \u001b[0;32mraise\u001b[0m \u001b[0mIndexingError\u001b[0m\u001b[0;34m(\u001b[0m\u001b[0;34m\"not applicable\"\u001b[0m\u001b[0;34m)\u001b[0m\u001b[0;34m\u001b[0m\u001b[0;34m\u001b[0m\u001b[0m\n",
      "\u001b[0;32m~/anaconda3/envs/spyder-env/lib/python3.9/site-packages/pandas/core/indexing.py\u001b[0m in \u001b[0;36m__getitem__\u001b[0;34m(self, key)\u001b[0m\n\u001b[1;32m    965\u001b[0m \u001b[0;34m\u001b[0m\u001b[0m\n\u001b[1;32m    966\u001b[0m             \u001b[0mmaybe_callable\u001b[0m \u001b[0;34m=\u001b[0m \u001b[0mcom\u001b[0m\u001b[0;34m.\u001b[0m\u001b[0mapply_if_callable\u001b[0m\u001b[0;34m(\u001b[0m\u001b[0mkey\u001b[0m\u001b[0;34m,\u001b[0m \u001b[0mself\u001b[0m\u001b[0;34m.\u001b[0m\u001b[0mobj\u001b[0m\u001b[0;34m)\u001b[0m\u001b[0;34m\u001b[0m\u001b[0;34m\u001b[0m\u001b[0m\n\u001b[0;32m--> 967\u001b[0;31m             \u001b[0;32mreturn\u001b[0m \u001b[0mself\u001b[0m\u001b[0;34m.\u001b[0m\u001b[0m_getitem_axis\u001b[0m\u001b[0;34m(\u001b[0m\u001b[0mmaybe_callable\u001b[0m\u001b[0;34m,\u001b[0m \u001b[0maxis\u001b[0m\u001b[0;34m=\u001b[0m\u001b[0maxis\u001b[0m\u001b[0;34m)\u001b[0m\u001b[0;34m\u001b[0m\u001b[0;34m\u001b[0m\u001b[0m\n\u001b[0m\u001b[1;32m    968\u001b[0m \u001b[0;34m\u001b[0m\u001b[0m\n\u001b[1;32m    969\u001b[0m     \u001b[0;32mdef\u001b[0m \u001b[0m_is_scalar_access\u001b[0m\u001b[0;34m(\u001b[0m\u001b[0mself\u001b[0m\u001b[0;34m,\u001b[0m \u001b[0mkey\u001b[0m\u001b[0;34m:\u001b[0m \u001b[0mtuple\u001b[0m\u001b[0;34m)\u001b[0m\u001b[0;34m:\u001b[0m\u001b[0;34m\u001b[0m\u001b[0;34m\u001b[0m\u001b[0m\n",
      "\u001b[0;32m~/anaconda3/envs/spyder-env/lib/python3.9/site-packages/pandas/core/indexing.py\u001b[0m in \u001b[0;36m_getitem_axis\u001b[0;34m(self, key, axis)\u001b[0m\n\u001b[1;32m   1180\u001b[0m             \u001b[0;32mreturn\u001b[0m \u001b[0mself\u001b[0m\u001b[0;34m.\u001b[0m\u001b[0m_get_slice_axis\u001b[0m\u001b[0;34m(\u001b[0m\u001b[0mkey\u001b[0m\u001b[0;34m,\u001b[0m \u001b[0maxis\u001b[0m\u001b[0;34m=\u001b[0m\u001b[0maxis\u001b[0m\u001b[0;34m)\u001b[0m\u001b[0;34m\u001b[0m\u001b[0;34m\u001b[0m\u001b[0m\n\u001b[1;32m   1181\u001b[0m         \u001b[0;32melif\u001b[0m \u001b[0mcom\u001b[0m\u001b[0;34m.\u001b[0m\u001b[0mis_bool_indexer\u001b[0m\u001b[0;34m(\u001b[0m\u001b[0mkey\u001b[0m\u001b[0;34m)\u001b[0m\u001b[0;34m:\u001b[0m\u001b[0;34m\u001b[0m\u001b[0;34m\u001b[0m\u001b[0m\n\u001b[0;32m-> 1182\u001b[0;31m             \u001b[0;32mreturn\u001b[0m \u001b[0mself\u001b[0m\u001b[0;34m.\u001b[0m\u001b[0m_getbool_axis\u001b[0m\u001b[0;34m(\u001b[0m\u001b[0mkey\u001b[0m\u001b[0;34m,\u001b[0m \u001b[0maxis\u001b[0m\u001b[0;34m=\u001b[0m\u001b[0maxis\u001b[0m\u001b[0;34m)\u001b[0m\u001b[0;34m\u001b[0m\u001b[0;34m\u001b[0m\u001b[0m\n\u001b[0m\u001b[1;32m   1183\u001b[0m         \u001b[0;32melif\u001b[0m \u001b[0mis_list_like_indexer\u001b[0m\u001b[0;34m(\u001b[0m\u001b[0mkey\u001b[0m\u001b[0;34m)\u001b[0m\u001b[0;34m:\u001b[0m\u001b[0;34m\u001b[0m\u001b[0;34m\u001b[0m\u001b[0m\n\u001b[1;32m   1184\u001b[0m \u001b[0;34m\u001b[0m\u001b[0m\n",
      "\u001b[0;32m~/anaconda3/envs/spyder-env/lib/python3.9/site-packages/pandas/core/indexing.py\u001b[0m in \u001b[0;36m_getbool_axis\u001b[0;34m(self, key, axis)\u001b[0m\n\u001b[1;32m    983\u001b[0m         \u001b[0mlabels\u001b[0m \u001b[0;34m=\u001b[0m \u001b[0mself\u001b[0m\u001b[0;34m.\u001b[0m\u001b[0mobj\u001b[0m\u001b[0;34m.\u001b[0m\u001b[0m_get_axis\u001b[0m\u001b[0;34m(\u001b[0m\u001b[0maxis\u001b[0m\u001b[0;34m)\u001b[0m\u001b[0;34m\u001b[0m\u001b[0;34m\u001b[0m\u001b[0m\n\u001b[1;32m    984\u001b[0m         \u001b[0mkey\u001b[0m \u001b[0;34m=\u001b[0m \u001b[0mcheck_bool_indexer\u001b[0m\u001b[0;34m(\u001b[0m\u001b[0mlabels\u001b[0m\u001b[0;34m,\u001b[0m \u001b[0mkey\u001b[0m\u001b[0;34m)\u001b[0m\u001b[0;34m\u001b[0m\u001b[0;34m\u001b[0m\u001b[0m\n\u001b[0;32m--> 985\u001b[0;31m         \u001b[0minds\u001b[0m \u001b[0;34m=\u001b[0m \u001b[0mkey\u001b[0m\u001b[0;34m.\u001b[0m\u001b[0mnonzero\u001b[0m\u001b[0;34m(\u001b[0m\u001b[0;34m)\u001b[0m\u001b[0;34m[\u001b[0m\u001b[0;36m0\u001b[0m\u001b[0;34m]\u001b[0m\u001b[0;34m\u001b[0m\u001b[0;34m\u001b[0m\u001b[0m\n\u001b[0m\u001b[1;32m    986\u001b[0m         \u001b[0;32mreturn\u001b[0m \u001b[0mself\u001b[0m\u001b[0;34m.\u001b[0m\u001b[0mobj\u001b[0m\u001b[0;34m.\u001b[0m\u001b[0m_take_with_is_copy\u001b[0m\u001b[0;34m(\u001b[0m\u001b[0minds\u001b[0m\u001b[0;34m,\u001b[0m \u001b[0maxis\u001b[0m\u001b[0;34m=\u001b[0m\u001b[0maxis\u001b[0m\u001b[0;34m)\u001b[0m\u001b[0;34m\u001b[0m\u001b[0;34m\u001b[0m\u001b[0m\n\u001b[1;32m    987\u001b[0m \u001b[0;34m\u001b[0m\u001b[0m\n",
      "\u001b[0;31mKeyboardInterrupt\u001b[0m: "
     ]
    }
   ],
   "source": [
    "df_palo_alto.apply(lambda row: add_to_backbone(row), axis=1)"
   ]
  },
  {
   "cell_type": "code",
   "execution_count": null,
   "id": "31f150e2-02f2-464f-8a8f-b07a7ea3a479",
   "metadata": {},
   "outputs": [],
   "source": [
    "from scipy import stats\n",
    "df_palo_alto['z_score'] = np.abs(stats.zscore(df_palo_alto['Charging Time (hh:mm:ss)']))\n",
    "df_palo_alto = df_palo_alto[df_palo_alto.z_score <= 3.0]"
   ]
  },
  {
   "cell_type": "code",
   "execution_count": null,
   "id": "cf14908d-38b3-4f6a-8cf3-9b39c4a0f85d",
   "metadata": {},
   "outputs": [],
   "source": [
    "backbone_daily = pd.DataFrame({'date_time': pd.date_range(start, end, freq=\"24h\")})\n",
    "backbone_daily['value'] = 0.0\n",
    "backbone_daily = backbone_daily[:-1]\n",
    "\n",
    "\n",
    "    \n",
    "for row in backbone_daily.itertuples():\n",
    "    avg = 0.0\n",
    "    start_time = backbone_daily.at[row.Index, 'date_time']\n",
    "    for i in range(96):\n",
    "        avg += backbone[backbone['date_time'] == start_time + datetime.timedelta(minutes=15*i)]['value'].item()    \n",
    "    avg /= 96.0\n",
    "    backbone_daily.loc[row.Index, 'value'] = avg    \n",
    "    \n"
   ]
  },
  {
   "cell_type": "code",
   "execution_count": null,
   "id": "b1e26f76-c032-4adc-acaa-b1016421df1f",
   "metadata": {},
   "outputs": [],
   "source": [
    "import matplotlib.pyplot as plt\n",
    "\n",
    "df_palo_alto['Energy__Wh_'] = df_palo_alto['Energy (kWh)'].apply(lambda x: round(int(x*1000)/100)*100)\n",
    "vc_energy = df_palo_alto.Energy__Wh_.value_counts()\n",
    "vc_energy = vc_energy.sort_index()\n",
    "\n",
    "x_energy = vc_energy.index\n",
    "y_energy = vc_energy.values\n",
    "plt.rcParams[\"figure.figsize\"] = (20,10)\n",
    "plt.bar(x_energy, y_energy, width=100)\n",
    "plt.xlabel(\"Wh\")\n",
    "plt.ylabel(\"count\")\n",
    "plt.title(\"energy consumed\")\n",
    "plt.savefig('/home/doktormatte/Dropbox/Dokumente/Studium/MA_SciComp/Data/Plots/Pre_covid/palo_alto_energy.png')\n",
    "plt.show()"
   ]
  },
  {
   "cell_type": "code",
   "execution_count": null,
   "id": "e701cbe1-33d6-4e14-b554-889b704ef023",
   "metadata": {},
   "outputs": [],
   "source": [
    "import matplotlib.pyplot as plt\n",
    "\n",
    "df_palo_alto['Energy__Wh_'] = df_palo_alto['Energy (kWh)'].apply(lambda x: round(int(x*1000)/100)*100)\n",
    "vc_energy = df_palo_alto.Energy__Wh_.value_counts()\n",
    "vc_energy = vc_energy.sort_index()\n",
    "\n",
    "x_energy = vc_energy.index\n",
    "y_energy = vc_energy.values\n",
    "plt.rcParams[\"figure.figsize\"] = (20,10)\n",
    "plt.bar(x_energy, y_energy, width=100)\n",
    "plt.xlabel(\"Wh\")\n",
    "plt.ylabel(\"count\")\n",
    "plt.title(\"energy consumed\")\n",
    "plt.savefig('/home/doktormatte/Dropbox/Dokumente/Studium/MA_SciComp/Data/Plots/Pre_covid/palo_alto_energy.png')\n",
    "plt.show()"
   ]
  },
  {
   "cell_type": "code",
   "execution_count": null,
   "id": "9530ddc7-d6da-494f-b8ad-a00f16341eb6",
   "metadata": {},
   "outputs": [],
   "source": [
    "df_palo_alto['Start Date']\n",
    "\n",
    "def get_hs_and_mins(ts):\n",
    "    hours = str(ts.hour)\n",
    "    minutes = str(ts.minute)\n",
    "    if hours == '0':\n",
    "        hours = '00'\n",
    "    if minutes == '0':\n",
    "        minutes = '00'        \n",
    "    ts = datetime.datetime.strptime(hours + \":\" + minutes, '%H:%M')    \n",
    "    return ts\n",
    "    \n",
    "df_palo_alto['plugin_time'] = df_palo_alto['Start Date'].map(get_hs_and_mins)\n",
    "vc_plugin = df_palo_alto.plugin_time.value_counts()\n",
    "vc_plugin = vc_plugin.sort_index()\n",
    "\n",
    "\n",
    "x_plugin = vc_plugin.index\n",
    "x_plugin = range(96)\n",
    "y_plugin = vc_plugin.values\n",
    "plt.rcParams[\"figure.figsize\"] = (20,10)\n",
    "plt.bar(x_plugin, y_plugin, width=0.9)\n",
    "plt.xlabel(\"timeslot\")\n",
    "plt.ylabel(\"count\")\n",
    "plt.title(\"plugin time\")\n",
    "plt.savefig('/home/doktormatte/Dropbox/Dokumente/Studium/MA_SciComp/Data/Plots/Pre_covid/palo_alto_plugin_time.png')\n",
    "plt.show()"
   ]
  },
  {
   "cell_type": "code",
   "execution_count": null,
   "id": "3fd19eb6-5bbb-4b17-96b4-ee6e2ca9131a",
   "metadata": {},
   "outputs": [],
   "source": [
    "vc_duration = df_palo_alto['Charging Time (hh:mm:ss)'].value_counts()\n",
    "vc_duration = vc_duration.sort_index()\n",
    "x_duration = vc_duration.index\n",
    "y_duration = vc_duration.values\n",
    "\n",
    "plt.rcParams[\"figure.figsize\"] = (20,10)\n",
    "plt.bar(x_duration, y_duration,width=13)\n",
    "\n",
    "plt.xlabel(\"minutes\")\n",
    "plt.ylabel(\"count\")\n",
    "plt.title(\"session duration\")\n",
    "plt.savefig('/home/doktormatte/Dropbox/Dokumente/Studium/MA_SciComp/Data/Plots/Pre_covid/palo_alto_session_duration.png')\n",
    "plt.show()"
   ]
  },
  {
   "cell_type": "code",
   "execution_count": null,
   "id": "3bca9f44-b9e0-4c98-8625-e4162d0fa0ca",
   "metadata": {},
   "outputs": [],
   "source": [
    "\n",
    "\n",
    "plt.boxplot(df_palo_alto['Charging Time (hh:mm:ss)'])\n",
    "# plt.rcParams[\"figure.figsize\"] = (10,5)\n",
    "plt.ylabel(\"minutes\")\n",
    "plt.title(\"session duration (all)\") \n",
    "plt.savefig('/home/doktormatte/Dropbox/Dokumente/Studium/MA_SciComp/Data/Plots/Pre_covid/palo_alto_box_all.png')\n",
    "plt.show()"
   ]
  },
  {
   "cell_type": "code",
   "execution_count": null,
   "id": "c5eea6cc-0d13-4feb-86f4-bbc0b2890eeb",
   "metadata": {},
   "outputs": [],
   "source": [
    "def get_weekend(ts):\n",
    "    if ts.weekday() > 4:\n",
    "        return 1\n",
    "    return 0\n",
    "\n",
    "\n",
    "df_palo_alto['weekend'] = df_palo_alto['Start Date'].apply(get_weekend)\n",
    "\n",
    "df_palo_alto_weekday = df_palo_alto[df_palo_alto['weekend'] == 0]\n",
    "df_palo_alto_weekend = df_palo_alto[df_palo_alto['weekend'] == 1]\n",
    "\n",
    "\n",
    "plt.boxplot(df_palo_alto_weekday['Charging Time (hh:mm:ss)'])\n",
    "#plt.rcParams[\"figure.figsize\"] = (10,5)\n",
    "plt.ylabel(\"minutes\")\n",
    "plt.title(\"session duration (weekday)\") \n",
    "plt.savefig('/home/doktormatte/Dropbox/Dokumente/Studium/MA_SciComp/Data/Plots/Pre_covid/palo_alto_box_weekday.png')\n",
    "plt.show()"
   ]
  },
  {
   "cell_type": "code",
   "execution_count": null,
   "id": "53b44c04-3e27-4efb-9819-42b1050bfb84",
   "metadata": {},
   "outputs": [],
   "source": [
    "plt.boxplot(df_palo_alto_weekend['Charging Time (hh:mm:ss)'])\n",
    "# plt.rcParams[\"figure.figsize\"] = (10,5)\n",
    "plt.ylabel(\"minutes\")\n",
    "plt.title(\"session duration (weekend)\") \n",
    "plt.savefig('/home/doktormatte/Dropbox/Dokumente/Studium/MA_SciComp/Data/Plots/Pre_covid/palo_alto_box_weekend.png')\n",
    "plt.show()"
   ]
  },
  {
   "cell_type": "code",
   "execution_count": null,
   "id": "5f889d5e-8235-414b-b756-f86d4bd4d464",
   "metadata": {},
   "outputs": [],
   "source": [
    "value_dict = {'weekday': df_palo_alto_weekday['Charging Time (hh:mm:ss)'], 'weekend': df_palo_alto_weekend['Charging Time (hh:mm:ss)'], 'all': df_palo_alto['Charging Time (hh:mm:ss)']}\n",
    "\n",
    "fig, ax = plt.subplots()\n",
    "ax.boxplot(value_dict.values())\n",
    "ax.set_xticklabels(value_dict.keys())\n",
    "plt.rcParams[\"figure.figsize\"] = (20,10)\n",
    "plt.ylabel(\"minutes\")\n",
    "plt.title(\"session duration\") \n",
    "plt.savefig('/home/doktormatte/Dropbox/Dokumente/Studium/MA_SciComp/Data/Plots/Pre_covid/palo_alto_boxes.png')\n",
    "plt.show()"
   ]
  },
  {
   "cell_type": "code",
   "execution_count": null,
   "id": "de82db6d-f235-4677-90b7-aa0bea8ccdd2",
   "metadata": {},
   "outputs": [],
   "source": [
    "backbone_daily = pd.DataFrame({'date_time': pd.date_range(start, end, freq=\"24h\")})\n",
    "backbone_daily.set_index('date_time')\n",
    "backbone_daily['value'] = 0.0\n",
    "backbone_daily['sessions'] = 0\n",
    "backbone_daily = backbone_daily[:-1]\n",
    "\n",
    "for row in backbone_daily.itertuples():\n",
    "    avg_load = 0.0\n",
    "    avg_sessions = 0\n",
    "    start_time = backbone_daily.at[row.Index, 'date_time']\n",
    "    for i in range(96):\n",
    "        avg_load += backbone[backbone['date_time'] == start_time + datetime.timedelta(minutes=15*i)]['value'].item()    \n",
    "        avg_sessions += backbone[backbone['date_time'] == start_time + datetime.timedelta(minutes=15*i)]['sessions'].item()\n",
    "    avg_load /= 96.0    \n",
    "    backbone_daily.loc[row.Index, 'value'] = avg_load  \n",
    "    backbone_daily.loc[row.Index, 'sessions'] = avg_sessions  "
   ]
  },
  {
   "cell_type": "code",
   "execution_count": null,
   "id": "1814c2dc-eae7-4876-a4bd-92114aa6c2a9",
   "metadata": {},
   "outputs": [],
   "source": [
    "x_sessions = backbone_daily['date_time']\n",
    "y_sessions = backbone_daily['sessions']\n",
    "plt.rcParams[\"figure.figsize\"] = (20,3)\n",
    "\n",
    "plt.plot(x_sessions, y_sessions)\n",
    "plt.xlabel(\"time\")\n",
    "plt.ylabel(\"count\")\n",
    "plt.title(\"number of charging sessions\")\n",
    "plt.show()"
   ]
  },
  {
   "cell_type": "code",
   "execution_count": null,
   "id": "731a36f8-4599-4e39-93df-604e8fd6bfa3",
   "metadata": {},
   "outputs": [],
   "source": [
    "\n",
    "\n",
    "\n",
    "x = backbone_daily['date_time']\n",
    "y = backbone_daily['value']  \n",
    "\n",
    "\n",
    "plt.rcParams[\"figure.figsize\"] = (20,3)\n",
    "plt.plot(x, y)\n",
    "plt.show()"
   ]
  },
  {
   "cell_type": "code",
   "execution_count": null,
   "id": "cb2a59b8-bbaf-48b1-8015-debe6a72b5e9",
   "metadata": {},
   "outputs": [],
   "source": []
  }
 ],
 "metadata": {
  "kernelspec": {
   "display_name": "Python 3 (ipykernel)",
   "language": "python",
   "name": "python3"
  },
  "language_info": {
   "codemirror_mode": {
    "name": "ipython",
    "version": 3
   },
   "file_extension": ".py",
   "mimetype": "text/x-python",
   "name": "python",
   "nbconvert_exporter": "python",
   "pygments_lexer": "ipython3",
   "version": "3.9.12"
  }
 },
 "nbformat": 4,
 "nbformat_minor": 5
}
